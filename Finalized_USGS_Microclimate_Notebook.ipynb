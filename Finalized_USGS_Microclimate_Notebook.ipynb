{
 "cells": [
  {
   "cell_type": "markdown",
   "metadata": {},
   "source": [
    "## This notebook can be used to analyze data collected from HOBO sensors. \n",
    "\n",
    "#### Prior to going through this notebook, make sure you have exported the desired files from the HOBO data to CSV format. Assemble the files into the directory you would like to use for the analysis. All the CSV files from that directory will input into the dataframe. \n",
    "\n",
    "#### Also make sure you have downloaded the ENTIRE repository from github. You will need all the different \".py\" files\n",
    "\n",
    "#### To run each cell, hold down shift enter in the desired cell you would like to run. \n",
    "\n",
    "#### Word of advice - this may take a while to run. Please be aware of that, and if you have any questions, please feel free to reach out to me \n",
    "---\n",
    "This first cell is used to bring in the neccessary libraries "
   ]
  },
  {
   "cell_type": "code",
   "execution_count": null,
   "metadata": {},
   "outputs": [],
   "source": [
    "#Import the neccessary libraries and functions \n",
    "%matplotlib inline\n",
    "import pandas as pd\n",
    "import matplotlib.pyplot as plt\n",
    "from matplotlib.dates import DateFormatter, MonthLocator, YearLocator\n",
    "import numpy as np\n",
    "import re\n",
    "import os\n",
    "import interactive_file_selection\n",
    "import glob\n",
    "from matplotlib import rcParams\n",
    "from pandas import Series, DataFrame\n",
    "import seaborn as sb\n",
    "import csv\n",
    "import datetime as datetime\n",
    "from datetime import datetime\n",
    "import warnings\n",
    "import tkinter as tk\n",
    "from tkinter import filedialog\n",
    "from tkinter import *\n",
    "warnings.filterwarnings('ignore')\n",
    "\n",
    "from degree_days import bug_degree_day, plant_degree_day\n",
    "from time_of_day import hot_cold_time\n",
    "from data_readin import data_read_in\n",
    "from qa_qc_tests import persist_test, range_test, step_test\n",
    "from subset import subset_variables, subset_site_type\n",
    "from plots import multi_panel_plot"
   ]
  },
  {
   "cell_type": "markdown",
   "metadata": {},
   "source": [
    "Next, you have the option to interactively select which folder contains the files you would like analyzed. Open the interactive window, select a file from within the desired folder, then select okay. The window will close and bring you back to this notebook"
   ]
  },
  {
   "cell_type": "code",
   "execution_count": null,
   "metadata": {
    "collapsed": true
   },
   "outputs": [],
   "source": [
    "#Select the filetype by selecting a single file \n",
    "fname = interactive_file_selection.gui_fname()\n",
    "path = os.path.dirname(fname)"
   ]
  },
  {
   "cell_type": "markdown",
   "metadata": {},
   "source": [
    "If you decided to not use the file selection tool, you can use this cell (make sure to the line path = ...)"
   ]
  },
  {
   "cell_type": "code",
   "execution_count": null,
   "metadata": {
    "collapsed": true
   },
   "outputs": [],
   "source": [
    "#You can also manually select the path using this cell\n",
    "#path = '/Users/mgrover1/Desktop/microclimate/test_data/'"
   ]
  },
  {
   "cell_type": "markdown",
   "metadata": {},
   "source": [
    "The next step is to read in all the files from the selected directory. Be warned - if there are a TON of files within the selected directory, this will take a long time to run..."
   ]
  },
  {
   "cell_type": "code",
   "execution_count": null,
   "metadata": {},
   "outputs": [],
   "source": [
    "extension = 'csv'\n",
    "os.chdir(path)\n",
    "result = [i for i in glob.glob('*.{}'.format(extension))]\n",
    "\n",
    "#Complete the data read in process by pulling the data into a single dataframe\n",
    "#Exports the dataframe to its own file \n",
    "x = data_read_in(result)"
   ]
  },
  {
   "cell_type": "markdown",
   "metadata": {},
   "source": [
    "Drops any data points that are missing temperature or light data - also gives a report of how many total data points were dropped. This can be helpful for understand how much 'bad' data exits"
   ]
  },
  {
   "cell_type": "code",
   "execution_count": null,
   "metadata": {},
   "outputs": [],
   "source": [
    "#Remove all data entries that are missing any values \n",
    "df = x.dropna(how='any')\n",
    "\n",
    "#Set the correct index value \n",
    "df.index = df.datetime\n",
    "\n",
    "#Outputs a summary of how many data points were removed out of the total number \n",
    "print('Removed a total of ',(len(x) - len(df)), 'Entries', ' of ', len(df))"
   ]
  },
  {
   "cell_type": "markdown",
   "metadata": {},
   "source": [
    "Next, we will do some exploratory data analysis. Charts are created for each sensor within the dataset, and output to files within the current directory (where all the data is at). This will help you understand what data you have, and where there are holes...\n",
    "\n",
    "You can decide which variables to plot\n",
    "- max_min_temperature\n",
    "- max_min_light \n",
    "- diurnal_temperature_range\n",
    "\n",
    "You can also determine what time period you would like average values over. Acceptable inputs include: \n",
    "- Daily \n",
    "- Weekly\n",
    "- Monthly \n",
    "- Yearly\n"
   ]
  },
  {
   "cell_type": "code",
   "execution_count": null,
   "metadata": {},
   "outputs": [],
   "source": [
    "#Plots the maximum and minimum temperature for each site and sensor type by week \n",
    "multi_panel_plot(df = df, plot_vars = 'max_min_temperature', frequency = 'weekly')"
   ]
  },
  {
   "cell_type": "code",
   "execution_count": null,
   "metadata": {},
   "outputs": [],
   "source": [
    "#Plots the maximum and minimum temperature for each site and sensor type by week \n",
    "multi_panel_plot(df = df, plot_vars = 'max_min_light', frequency = 'weekly')"
   ]
  },
  {
   "cell_type": "code",
   "execution_count": null,
   "metadata": {},
   "outputs": [],
   "source": [
    "#Plots the maximum and minimum temperature for each site and sensor type by week \n",
    "multi_panel_plot(df = df, plot_vars = 'diurnal_temperature_range', frequency = 'weekly')"
   ]
  },
  {
   "cell_type": "markdown",
   "metadata": {},
   "source": [
    "---\n",
    "Summaries are also generated from the data to provide you with an understanding of what the statistics are for the dataset"
   ]
  },
  {
   "cell_type": "code",
   "execution_count": null,
   "metadata": {},
   "outputs": [],
   "source": [
    "#Generates a daily summary\n",
    "daily_summary = df.groupby(['site','type','Year','Month','Day']).describe()\n",
    "daily_summary"
   ]
  },
  {
   "cell_type": "code",
   "execution_count": null,
   "metadata": {
    "collapsed": true
   },
   "outputs": [],
   "source": [
    "#Generates a weekly summary \n",
    "weekly_summary = df.groupby(['site','type','Year','Month','Week']).describe()\n",
    "weekly_summary"
   ]
  },
  {
   "cell_type": "code",
   "execution_count": null,
   "metadata": {
    "collapsed": true
   },
   "outputs": [],
   "source": [
    "#Generates a monthly summary \n",
    "monthly_summary = df.groupby(['site','type','Year','Month']).describe()\n",
    "monthly_summary"
   ]
  },
  {
   "cell_type": "code",
   "execution_count": null,
   "metadata": {
    "collapsed": true
   },
   "outputs": [],
   "source": [
    "#Generates a yearly summary \n",
    "yearly_summary = df.groupby(['site', 'type', 'Year']).describe()\n",
    "yearly_summary"
   ]
  },
  {
   "cell_type": "markdown",
   "metadata": {},
   "source": [
    "---\n",
    "A Quality Assurance/Control is performed on the data using persistence, range, and step tests. The methodology and part of the code for this was taken from a project at New Mexico State University "
   ]
  },
  {
   "cell_type": "code",
   "execution_count": null,
   "metadata": {
    "collapsed": true
   },
   "outputs": [],
   "source": [
    "#Sets the index to be the datetime \n",
    "x.index = x.datetime\n",
    "\n",
    "#QA/QC Analysis \n",
    "temps = x['temp']\n",
    "\n",
    "#PERSISTENCE TEST\n",
    "#Checks to see if there are too many values in a row\n",
    "persist_df_result = persist_test(temps, 10, 2)\n",
    "x['persist_test'] = persist_df_result['result']\n",
    "\n",
    "#RANGE TEST\n",
    "#Set the maximum and minimum temperature values you would expect from the sensor \n",
    "range_test_df = range_test(temps,90,5)\n",
    "x['range_test']= range_test_df['result']\n",
    "\n",
    "#STEP TEST\n",
    "#Run the step test, with the second value being the maximum difference you would expect between time steps\n",
    "step_test_df = step_test(temps_subset,10)\n",
    "x['step_test'] = step_test_df['result']\n",
    "\n",
    "#Tests to see if each timestep satisfies all the QA/QC components \n",
    "all_tests = []\n",
    "for i in range(len(x)):\n",
    "    if x['step_test'][i] & x['range_test'][i] & x['persist_test'][i] == True:\n",
    "        all_tests.append('Pass')\n",
    "    else:\n",
    "        all_tests.append(\"Fail\")\n",
    "x['all_tests'] = all_tests\n",
    "\n",
    "#Subsets the dataframe for only the data that passed the QA/QC test \n",
    "x = x[all_tests = True]"
   ]
  },
  {
   "cell_type": "markdown",
   "metadata": {},
   "source": [
    "---\n",
    "\n",
    "## WARNING - THIS SECTION CAN TAKE A VERY LONG TIME \n",
    "\n",
    "#### Plant and Bug Degree days can be helpful for analysis. "
   ]
  },
  {
   "cell_type": "code",
   "execution_count": null,
   "metadata": {
    "collapsed": true
   },
   "outputs": [],
   "source": [
    "#Calculate different degree days\n",
    "#Takes a long time... \n",
    "x['Plant_Degree_Day'] = plant_degree_day(x)\n",
    "x['Bug_Degree_Day'] = bug_degree_day(x)"
   ]
  },
  {
   "cell_type": "markdown",
   "metadata": {},
   "source": [
    "### Final reports are generated by the year, month, and week"
   ]
  },
  {
   "cell_type": "code",
   "execution_count": null,
   "metadata": {
    "collapsed": true
   },
   "outputs": [],
   "source": [
    "#Create reports detailing the number of temperature observations for each given sensor \n",
    "#Yearly Report \n",
    "\n",
    "#Create the yearly report for both count and average temperature \n",
    "yearly_report_count = x.groupby(['site','type','Year'])['temp'].count()\n",
    "yearly_report_mean = x.groupby(['site','type','Year'])['temp'].mean()\n",
    "\n",
    "#Exports the yearly reports\n",
    "yearly_report_count.to_csv('yearly_count_report.csv',header=True)\n",
    "yearly_report_mean.to_csv('yearly_avgtemp_report.csv',header=True)\n",
    "\n",
    "\n",
    "#Create the monthly reports for both count and average temperature \n",
    "monthly_report_count = x.groupby(['site','type','Year','Month'])['temp'].count()\n",
    "monthly_report_mean = x.groupby(['site','type','Year','Month'])['temp'].mean()\n",
    "\n",
    "#Exports the monthly reports \n",
    "monthly_report_count.to_csv('monthly_count_report.csv',header=True)\n",
    "monthly_report_mean.to_csv('monthly_avgtemp_report.csv',header=True)\n",
    "\n",
    "\n",
    "#Create the weekly report for both count and average temperature \n",
    "weekly_report_count = x.groupby(['site','type','Year','Month','Week'])['temp'].count()\n",
    "weekly_report_mean = x.groupby(['site','type','Year','Month','Week'])['temp'].mean()\n",
    "\n",
    "#Exports the weekly reports \n",
    "weekly_report_count.to_csv('weekly_count_report.csv',header=True)\n",
    "weekly_report_mean.to_csv('weekly_avgtemp_report.csv',header=True)"
   ]
  },
  {
   "cell_type": "markdown",
   "metadata": {},
   "source": [
    "### Finalized graphs using the quality data"
   ]
  },
  {
   "cell_type": "code",
   "execution_count": null,
   "metadata": {
    "collapsed": true
   },
   "outputs": [],
   "source": [
    "#Plots the maximum and minimum temperature for each site and sensor type by week \n",
    "multi_panel_plot(df = x, plot_vars = 'max_min_temperature', frequency = 'weekly')\n",
    "\n",
    "#Plots the maximum and minimum temperature for each site and sensor type by week \n",
    "multi_panel_plot(df = x, plot_vars = 'max_min_light', frequency = 'weekly')\n",
    "\n",
    "#Plots the maximum and minimum temperature for each site and sensor type by week \n",
    "multi_panel_plot(df = x, plot_vars = 'diurnal_temperature_range', frequency = 'weekly')"
   ]
  }
 ],
 "metadata": {
  "kernelspec": {
   "display_name": "Python 3",
   "language": "python",
   "name": "python3"
  },
  "language_info": {
   "codemirror_mode": {
    "name": "ipython",
    "version": 3
   },
   "file_extension": ".py",
   "mimetype": "text/x-python",
   "name": "python",
   "nbconvert_exporter": "python",
   "pygments_lexer": "ipython3",
   "version": "3.6.8"
  }
 },
 "nbformat": 4,
 "nbformat_minor": 2
}
